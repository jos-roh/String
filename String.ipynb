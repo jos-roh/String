{
 "cells": [
  {
   "cell_type": "code",
   "execution_count": 1,
   "id": "b9d78040",
   "metadata": {},
   "outputs": [
    {
     "name": "stdout",
     "output_type": "stream",
     "text": [
      "Enter a string:Rohan\n",
      "nahoR\n"
     ]
    }
   ],
   "source": [
    "s=input(\"Enter a string:\")\n",
    "rev_str=s[::-1]\n",
    "print(rev_str)"
   ]
  },
  {
   "cell_type": "code",
   "execution_count": 2,
   "id": "ae352312",
   "metadata": {},
   "outputs": [
    {
     "name": "stdout",
     "output_type": "stream",
     "text": [
      "Enter a string:malayalam\n",
      "Palindrome\n"
     ]
    }
   ],
   "source": [
    "s1=input(\"Enter a string:\")\n",
    "s2=s1[::-1]\n",
    "if s1==s2:\n",
    "    print(\"Palindrome\")\n",
    "else:\n",
    "    print(\"Not Palindrome\")"
   ]
  },
  {
   "cell_type": "code",
   "execution_count": 3,
   "id": "b3d5f160",
   "metadata": {},
   "outputs": [
    {
     "name": "stdout",
     "output_type": "stream",
     "text": [
      "Enter a string:rohan\n",
      "Not Palindrome\n"
     ]
    }
   ],
   "source": [
    "s1=input(\"Enter a string:\")\n",
    "s2=s1[::-1]\n",
    "if s1==s2:\n",
    "    print(\"Palindrome\")\n",
    "else:\n",
    "    print(\"Not Palindrome\")"
   ]
  },
  {
   "cell_type": "code",
   "execution_count": 8,
   "id": "3ecd8b8c",
   "metadata": {},
   "outputs": [
    {
     "name": "stdout",
     "output_type": "stream",
     "text": [
      "Enter a string:ROHAN\n",
      "The number of vowels is  2\n"
     ]
    }
   ],
   "source": [
    "s=input(\"Enter a string:\")\n",
    "a=0\n",
    "for i in range(len(s)):\n",
    "    if s[i].lower() in ['a', 'e', 'i', 'o', 'u']:\n",
    "        a=a+1\n",
    "print(\"The number of vowels is \",a)"
   ]
  },
  {
   "cell_type": "code",
   "execution_count": 10,
   "id": "cf04de42",
   "metadata": {},
   "outputs": [
    {
     "name": "stdout",
     "output_type": "stream",
     "text": [
      "Enter string 1:Rohan \n",
      "Enter string 2:George\n",
      "Rohan George\n"
     ]
    }
   ],
   "source": [
    "s1=input(\"Enter string 1:\")\n",
    "s2=input(\"Enter string 2:\")\n",
    "s3 = \"{}{}\".format(s1, s2)\n",
    "print(s3)"
   ]
  },
  {
   "cell_type": "code",
   "execution_count": 11,
   "id": "14b4fb45",
   "metadata": {},
   "outputs": [
    {
     "name": "stdout",
     "output_type": "stream",
     "text": [
      "Enter a string:Rohan\n",
      "Enter the starting point:1\n",
      "Enter the ending point:3\n",
      "oh\n"
     ]
    }
   ],
   "source": [
    "s=input(\"Enter a string:\")\n",
    "a=int(input(\"Enter the starting point:\"))\n",
    "b=int(input(\"Enter the ending point:\"))\n",
    "substr=s[a:b]\n",
    "print(substr)"
   ]
  },
  {
   "cell_type": "code",
   "execution_count": 12,
   "id": "b0ef4d6a",
   "metadata": {},
   "outputs": [
    {
     "name": "stdout",
     "output_type": "stream",
     "text": [
      "Enter string 1:lIsTen\n",
      "Enter string 2:SiLenT\n",
      "True\n"
     ]
    }
   ],
   "source": [
    "def are_anagrams():\n",
    "    s1=input(\"Enter string 1:\")\n",
    "    s2=input(\"Enter string 2:\")\n",
    "    s1=s1.replace(\" \",\"\").lower()\n",
    "    s2=s2.replace(\" \",\"\").lower()\n",
    "    return sorted(s1)==sorted(s2)\n",
    "x=are_anagrams()\n",
    "print(x)"
   ]
  },
  {
   "cell_type": "code",
   "execution_count": 13,
   "id": "2f38c227",
   "metadata": {},
   "outputs": [
    {
     "name": "stdout",
     "output_type": "stream",
     "text": [
      "Enter string 1:Rohan\n",
      "Enter string 2:George\n",
      "False\n"
     ]
    }
   ],
   "source": [
    "def are_anagrams():\n",
    "    s1=input(\"Enter string 1:\")\n",
    "    s2=input(\"Enter string 2:\")\n",
    "    s1=s1.replace(\" \",\"\").lower()\n",
    "    s2=s2.replace(\" \",\"\").lower()\n",
    "    return sorted(s1)==sorted(s2)\n",
    "x=are_anagrams()\n",
    "print(x)"
   ]
  },
  {
   "cell_type": "code",
   "execution_count": 17,
   "id": "0b8205f6",
   "metadata": {},
   "outputs": [
    {
     "name": "stdout",
     "output_type": "stream",
     "text": [
      "Enter string 1:Rohan\n",
      "Enter string 2:nahoR\n",
      "String 1 is rotation of string 2.\n"
     ]
    }
   ],
   "source": [
    "s1=input(\"Enter string 1:\")\n",
    "s2=input(\"Enter string 2:\")\n",
    "if s2==s1[::-1]:\n",
    "    print(\"String 1 is rotation of string 2.\")"
   ]
  },
  {
   "cell_type": "code",
   "execution_count": null,
   "id": "3606b695",
   "metadata": {},
   "outputs": [],
   "source": []
  },
  {
   "cell_type": "code",
   "execution_count": null,
   "id": "69f85a08",
   "metadata": {},
   "outputs": [],
   "source": []
  }
 ],
 "metadata": {
  "kernelspec": {
   "display_name": "Python 3 (ipykernel)",
   "language": "python",
   "name": "python3"
  },
  "language_info": {
   "codemirror_mode": {
    "name": "ipython",
    "version": 3
   },
   "file_extension": ".py",
   "mimetype": "text/x-python",
   "name": "python",
   "nbconvert_exporter": "python",
   "pygments_lexer": "ipython3",
   "version": "3.11.3"
  }
 },
 "nbformat": 4,
 "nbformat_minor": 5
}
